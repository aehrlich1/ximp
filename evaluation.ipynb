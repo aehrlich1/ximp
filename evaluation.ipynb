{
 "cells": [
  {
   "cell_type": "markdown",
   "id": "d22d01e5",
   "metadata": {},
   "source": [
    "# Run Sample Configuration"
   ]
  },
  {
   "cell_type": "code",
   "execution_count": null,
   "id": "4422f08e",
   "metadata": {},
   "outputs": [
    {
     "name": "stdout",
     "output_type": "stream",
     "text": [
      "{'task': 'potency', 'target_task': 'pIC50 (SARS-CoV-2 Mpro)', 'batch_size': 64, 'dropout': 0.1, 'epochs': 100, 'lr': 0.001, 'weight_decay': 0.0001, 'repr_model': 'HIMP', 'num_layers': 3, 'encoding_dim': 8, 'hidden_channels': 16, 'out_channels': 16, 'proj_hidden_dim': 32, 'out_dim': 1, 'num_cv_folds': 5, 'num_cv_bins': 10, 'scaffold_split_val_sz': 0.1, 'use_erg': False, 'use_jt': False, 'jt_coarsity': 1, 'rg_embedding_dim': 8, 'radius': None}\n"
     ]
    },
    {
     "name": "stderr",
     "output_type": "stream",
     "text": [
      "Processing...\n",
      "Done!\n",
      "Processing...\n",
      "Done!\n"
     ]
    },
    {
     "name": "stdout",
     "output_type": "stream",
     "text": [
      "Validation losses: [0.4443412125110626, 0.47676292061805725, 0.5799012581507365, 0.46699686845143634, 0.5134066939353943]\n",
      "Average validation loss: 0.4962817907333374\n",
      "Mean absolute error for pIC50 (SARS-CoV-2 Mpro) on test_scaffold: 0.367\n"
     ]
    }
   ],
   "source": [
    "import pandas as pd\n",
    "\n",
    "from main import main\n",
    "\n",
    "val_best_params_file = \"global_best_params.csv\"\n",
    "df = pd.read_csv(val_best_params_file)\n",
    "\n",
    "# Cast radius from float -> int\n",
    "df[\"radius\"] = df[\"radius\"].astype(\"Int64\")\n",
    "\n",
    "# Remove unused columns\n",
    "df = df.drop(columns=[\"mean_val_loss\", \"std_val_loss\", \"source_file\", \"mae_test_scaffold\"])\n",
    "\n",
    "dic = df.to_dict(orient=\"records\")\n",
    "print(dic[50])\n",
    "\n",
    "main(dic[50])\n"
   ]
  },
  {
   "cell_type": "markdown",
   "id": "e1a45595",
   "metadata": {},
   "source": [
    "# Evaluation of Results"
   ]
  },
  {
   "cell_type": "code",
   "execution_count": 17,
   "id": "b0c751c2",
   "metadata": {},
   "outputs": [
    {
     "data": {
      "application/vnd.microsoft.datawrangler.viewer.v0+json": {
       "columns": [
        {
         "name": "repr_model",
         "rawType": "object",
         "type": "string"
        },
        {
         "name": "HLM",
         "rawType": "object",
         "type": "string"
        },
        {
         "name": "KSOL",
         "rawType": "object",
         "type": "string"
        },
        {
         "name": "LogD",
         "rawType": "object",
         "type": "string"
        },
        {
         "name": "MDR1-MDCKII",
         "rawType": "object",
         "type": "string"
        },
        {
         "name": "MLM",
         "rawType": "object",
         "type": "string"
        },
        {
         "name": "pIC50 (MERS-CoV Mpro)",
         "rawType": "object",
         "type": "string"
        },
        {
         "name": "pIC50 (SARS-CoV-2 Mpro)",
         "rawType": "object",
         "type": "string"
        },
        {
         "name": "ESOL",
         "rawType": "object",
         "type": "string"
        },
        {
         "name": "FreeSolv",
         "rawType": "object",
         "type": "string"
        },
        {
         "name": "Lipo",
         "rawType": "object",
         "type": "string"
        }
       ],
       "ref": "e7e3735c-1ca0-47f6-9a3f-1c6baa737f0d",
       "rows": [
        [
         "ECFP",
         "0.476 ± 0.015",
         "0.377 ± 0.024",
         "0.725 ± 0.014",
         "0.364 ± 0.018",
         "0.545 ± 0.017",
         "0.753 ± 0.011",
         "0.519 ± 0.023",
         "1.161 ± 0.053",
         "2.832 ± 0.07",
         "0.731 ± 0.024"
        ],
        [
         "GNN",
         "0.536 ± 0.05",
         "0.455 ± 0.079",
         "0.674 ± 0.03",
         "0.386 ± 0.026",
         "0.562 ± 0.046",
         "0.712 ± 0.016",
         "0.42 ± 0.023",
         "0.705 ± 0.035",
         "1.615 ± 0.139",
         "0.523 ± 0.015"
        ],
        [
         "HIMP",
         "0.492 ± 0.042",
         "0.344 ± 0.059",
         "0.809 ± 0.073",
         "0.331 ± 0.025",
         "0.567 ± 0.064",
         "0.638 ± 0.031",
         "0.412 ± 0.058",
         "0.793 ± 0.072",
         "1.819 ± 0.105",
         "0.536 ± 0.023"
        ],
        [
         "HOIMP",
         "0.485 ± 0.069",
         "0.344 ± 0.046",
         "0.687 ± 0.055",
         "0.319 ± 0.015",
         "0.556 ± 0.057",
         "0.68 ± 0.043",
         "0.419 ± 0.051",
         "0.866 ± 0.105",
         "1.93 ± 0.245",
         "0.525 ± 0.011"
        ]
       ],
       "shape": {
        "columns": 10,
        "rows": 4
       }
      },
      "text/html": [
       "<div>\n",
       "<style scoped>\n",
       "    .dataframe tbody tr th:only-of-type {\n",
       "        vertical-align: middle;\n",
       "    }\n",
       "\n",
       "    .dataframe tbody tr th {\n",
       "        vertical-align: top;\n",
       "    }\n",
       "\n",
       "    .dataframe thead th {\n",
       "        text-align: right;\n",
       "    }\n",
       "</style>\n",
       "<table border=\"1\" class=\"dataframe\">\n",
       "  <thead>\n",
       "    <tr style=\"text-align: right;\">\n",
       "      <th>target_task</th>\n",
       "      <th>HLM</th>\n",
       "      <th>KSOL</th>\n",
       "      <th>LogD</th>\n",
       "      <th>MDR1-MDCKII</th>\n",
       "      <th>MLM</th>\n",
       "      <th>pIC50 (MERS-CoV Mpro)</th>\n",
       "      <th>pIC50 (SARS-CoV-2 Mpro)</th>\n",
       "      <th>ESOL</th>\n",
       "      <th>FreeSolv</th>\n",
       "      <th>Lipo</th>\n",
       "    </tr>\n",
       "    <tr>\n",
       "      <th>repr_model</th>\n",
       "      <th></th>\n",
       "      <th></th>\n",
       "      <th></th>\n",
       "      <th></th>\n",
       "      <th></th>\n",
       "      <th></th>\n",
       "      <th></th>\n",
       "      <th></th>\n",
       "      <th></th>\n",
       "      <th></th>\n",
       "    </tr>\n",
       "  </thead>\n",
       "  <tbody>\n",
       "    <tr>\n",
       "      <th>ECFP</th>\n",
       "      <td>0.476 ± 0.015</td>\n",
       "      <td>0.377 ± 0.024</td>\n",
       "      <td>0.725 ± 0.014</td>\n",
       "      <td>0.364 ± 0.018</td>\n",
       "      <td>0.545 ± 0.017</td>\n",
       "      <td>0.753 ± 0.011</td>\n",
       "      <td>0.519 ± 0.023</td>\n",
       "      <td>1.161 ± 0.053</td>\n",
       "      <td>2.832 ± 0.07</td>\n",
       "      <td>0.731 ± 0.024</td>\n",
       "    </tr>\n",
       "    <tr>\n",
       "      <th>GNN</th>\n",
       "      <td>0.536 ± 0.05</td>\n",
       "      <td>0.455 ± 0.079</td>\n",
       "      <td>0.674 ± 0.03</td>\n",
       "      <td>0.386 ± 0.026</td>\n",
       "      <td>0.562 ± 0.046</td>\n",
       "      <td>0.712 ± 0.016</td>\n",
       "      <td>0.42 ± 0.023</td>\n",
       "      <td>0.705 ± 0.035</td>\n",
       "      <td>1.615 ± 0.139</td>\n",
       "      <td>0.523 ± 0.015</td>\n",
       "    </tr>\n",
       "    <tr>\n",
       "      <th>HIMP</th>\n",
       "      <td>0.492 ± 0.042</td>\n",
       "      <td>0.344 ± 0.059</td>\n",
       "      <td>0.809 ± 0.073</td>\n",
       "      <td>0.331 ± 0.025</td>\n",
       "      <td>0.567 ± 0.064</td>\n",
       "      <td>0.638 ± 0.031</td>\n",
       "      <td>0.412 ± 0.058</td>\n",
       "      <td>0.793 ± 0.072</td>\n",
       "      <td>1.819 ± 0.105</td>\n",
       "      <td>0.536 ± 0.023</td>\n",
       "    </tr>\n",
       "    <tr>\n",
       "      <th>HOIMP</th>\n",
       "      <td>0.485 ± 0.069</td>\n",
       "      <td>0.344 ± 0.046</td>\n",
       "      <td>0.687 ± 0.055</td>\n",
       "      <td>0.319 ± 0.015</td>\n",
       "      <td>0.556 ± 0.057</td>\n",
       "      <td>0.68 ± 0.043</td>\n",
       "      <td>0.419 ± 0.051</td>\n",
       "      <td>0.866 ± 0.105</td>\n",
       "      <td>1.93 ± 0.245</td>\n",
       "      <td>0.525 ± 0.011</td>\n",
       "    </tr>\n",
       "  </tbody>\n",
       "</table>\n",
       "</div>"
      ],
      "text/plain": [
       "target_task            HLM           KSOL           LogD    MDR1-MDCKII  \\\n",
       "repr_model                                                                \n",
       "ECFP         0.476 ± 0.015  0.377 ± 0.024  0.725 ± 0.014  0.364 ± 0.018   \n",
       "GNN           0.536 ± 0.05  0.455 ± 0.079   0.674 ± 0.03  0.386 ± 0.026   \n",
       "HIMP         0.492 ± 0.042  0.344 ± 0.059  0.809 ± 0.073  0.331 ± 0.025   \n",
       "HOIMP        0.485 ± 0.069  0.344 ± 0.046  0.687 ± 0.055  0.319 ± 0.015   \n",
       "\n",
       "target_task            MLM pIC50 (MERS-CoV Mpro) pIC50 (SARS-CoV-2 Mpro)  \\\n",
       "repr_model                                                                 \n",
       "ECFP         0.545 ± 0.017         0.753 ± 0.011           0.519 ± 0.023   \n",
       "GNN          0.562 ± 0.046         0.712 ± 0.016            0.42 ± 0.023   \n",
       "HIMP         0.567 ± 0.064         0.638 ± 0.031           0.412 ± 0.058   \n",
       "HOIMP        0.556 ± 0.057          0.68 ± 0.043           0.419 ± 0.051   \n",
       "\n",
       "target_task           ESOL       FreeSolv           Lipo  \n",
       "repr_model                                                \n",
       "ECFP         1.161 ± 0.053   2.832 ± 0.07  0.731 ± 0.024  \n",
       "GNN          0.705 ± 0.035  1.615 ± 0.139  0.523 ± 0.015  \n",
       "HIMP         0.793 ± 0.072  1.819 ± 0.105  0.536 ± 0.023  \n",
       "HOIMP        0.866 ± 0.105   1.93 ± 0.245  0.525 ± 0.011  "
      ]
     },
     "execution_count": 17,
     "metadata": {},
     "output_type": "execute_result"
    }
   ],
   "source": [
    "import glob\n",
    "import os\n",
    "\n",
    "import pandas as pd\n",
    "\n",
    "# path to your folder with CSV files\n",
    "folder_path = \"results/global_best_params\"\n",
    "\n",
    "csv_files = glob.glob(os.path.join(folder_path, \"*.csv\"))\n",
    "df = pd.concat((pd.read_csv(f) for f in csv_files), ignore_index=True)\n",
    "\n",
    "# display(df[[\"target_task\", \"repr_model\", \"seed\", \"mae_test_scaffold\"]])\n",
    "\n",
    "# Columns to ignore when deciding \"identical rows\"\n",
    "discard = {\"seed\", \"mean_val_loss\", \"std_val_loss\", \"mae_test_scaffold\"}\n",
    "group_cols = [c for c in df.columns if c not in discard]\n",
    "\n",
    "# Group and aggregate mae_test_scaffold\n",
    "df = (\n",
    "    df.groupby(group_cols, dropna=False)[\"mae_test_scaffold\"]\n",
    "    .agg([\"mean\", \"std\"])  # compute mean & std\n",
    "    .rename(columns={\"mean\": \"mae_test_scaffold_mean\", \"std\": \"mae_test_scaffold_std\"})\n",
    "    .reset_index()\n",
    ")\n",
    "\n",
    "# display(df[[\"target_task\", \"repr_model\", \"mae_test_scaffold_mean\", \"mae_test_scaffold_std\"]])\n",
    "\n",
    "# Define the GNN models of interest\n",
    "gnn_models = [\"GIN\", \"GCN\", \"GraphSAGE\", \"GAT\"]\n",
    "\n",
    "# Split the dataframe\n",
    "df_gnn = df[df[\"repr_model\"].isin(gnn_models)]\n",
    "df_other = df[~df[\"repr_model\"].isin(gnn_models)]\n",
    "\n",
    "# For GNN rows: keep only the best per target_task\n",
    "df_gnn_best = df_gnn.loc[df_gnn.groupby(\"target_task\")[\"mae_test_scaffold_mean\"].idxmin()]\n",
    "df_gnn_best[\"repr_model\"] = \"GNN\"\n",
    "\n",
    "# Combine back together\n",
    "df = pd.concat([df_gnn_best, df_other]).reset_index(drop=True)\n",
    "\n",
    "\n",
    "df[\"mae_test_scaffold\"] = (\n",
    "    df[\"mae_test_scaffold_mean\"].round(3).astype(str)\n",
    "    + \" ± \"\n",
    "    + df[\"mae_test_scaffold_std\"].round(3).astype(str)\n",
    ")\n",
    "\n",
    "# display(df[[\"target_task\", \"repr_model\", \"mae_test_scaffold\"]])\n",
    "\n",
    "pivot = df.pivot_table(\n",
    "    index=\"repr_model\",\n",
    "    columns=\"target_task\",\n",
    "    values=\"mae_test_scaffold\",\n",
    "    aggfunc=\"first\"\n",
    ")\n",
    "\n",
    "column_order = [\"HLM\", \"KSOL\", \"LogD\", \"MDR1-MDCKII\", \"MLM\", \"pIC50 (MERS-CoV Mpro)\", \"pIC50 (SARS-CoV-2 Mpro)\", \"ESOL\", \"FreeSolv\", \"Lipo\"]\n",
    "\n",
    "pivot = pivot.reindex(columns=column_order)\n",
    "\n",
    "pivot"
   ]
  }
 ],
 "metadata": {
  "kernelspec": {
   "display_name": "ximp",
   "language": "python",
   "name": "python3"
  },
  "language_info": {
   "codemirror_mode": {
    "name": "ipython",
    "version": 3
   },
   "file_extension": ".py",
   "mimetype": "text/x-python",
   "name": "python",
   "nbconvert_exporter": "python",
   "pygments_lexer": "ipython3",
   "version": "3.12.11"
  }
 },
 "nbformat": 4,
 "nbformat_minor": 5
}
